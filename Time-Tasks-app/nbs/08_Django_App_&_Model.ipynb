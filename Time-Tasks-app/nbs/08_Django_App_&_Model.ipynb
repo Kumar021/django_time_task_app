{
 "cells": [
  {
   "cell_type": "markdown",
   "metadata": {},
   "source": [
    "# Django  App & Model\n",
    "\n",
    "For this Django project, we're going to be performing scheduled web scraping events. This chaper is all about creating our first Django app without any additional integrations.\n",
    "\n",
    "\n",
    "## Stocks app\n",
    "\n",
    "In {ref}`create:django_stock_app`, we started our `stocks` app with the following:\n",
    "\n",
    "```console\n",
    "python manage.py startapp stocks\n",
    "```\n",
    "> Do this now if you haven't already.\n",
    "\n",
    "\n",
    "## `stocks/models.py`\n",
    "\n",
    "Eventually, we'll have celery and django work in concert by web scraping stock market prices for major public companies in the United States.\n",
    "\n",
    "\n",
    "\n",
    "```python\n",
    "# stocks/models.py\n",
    "from django.db import models\n",
    "\n",
    "\n",
    "STOCK_MARKET_LOOKUP_SOURCES = (\n",
    "    ('business_insider', \"Business Insider Markets\"),\n",
    "    ('google_finance', \"Google Finance\"),\n",
    "    ('echo', \"HTTPbin Echo\"),\n",
    ")\n",
    "\n",
    "class Company(models.Model):\n",
    "    name = models.CharField(max_length=120)\n",
    "    ticker = models.CharField(max_length=20)\n",
    "    description = models.TextField(blank=True,null=True)\n",
    "    active = models.BooleanField(default=True)\n",
    "    timestamp = models.DateTimeField(auto_now_add=True)\n",
    "    updated = models.DateTimeField(auto_now=True)\n",
    "\n",
    "\n",
    "class PriceEvent(models.Model):\n",
    "    company = models.ForeignKey(Company, null=True, on_delete=models.SET_NULL)\n",
    "    name = models.CharField(max_length=120, verbose_name='Company Name')\n",
    "    price = models.DecimalField(max_digits=10, decimal_places=2)\n",
    "    source = models.CharField(max_length=50, choices=STOCK_MARKET_LOOKUP_SOURCES, default='echo')\n",
    "    timestamp = models.DateTimeField(auto_now_add=True)\n",
    "```\n",
    "\n",
    "\n"
   ]
  },
  {
   "cell_type": "code",
   "execution_count": null,
   "metadata": {},
   "outputs": [],
   "source": []
  }
 ],
 "metadata": {
  "kernelspec": {
   "display_name": "Python 3",
   "language": "python",
   "name": "python3"
  },
  "language_info": {
   "codemirror_mode": {
    "name": "ipython",
    "version": 3
   },
   "file_extension": ".py",
   "mimetype": "text/x-python",
   "name": "python",
   "nbconvert_exporter": "python",
   "pygments_lexer": "ipython3",
   "version": "3.8.5"
  }
 },
 "nbformat": 4,
 "nbformat_minor": 4
}
