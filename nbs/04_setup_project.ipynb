{
 "cells": [
  {
   "cell_type": "markdown",
   "metadata": {},
   "source": [
    "# Setup Project\n",
    "Naturally, we need a django project setup. Let's do that here.\n",
    "\n",
    "## Activate Virtual Environment\n",
    "We did this {ref}`install:using_virtualenv` but here's a recap:\n",
    "\n",
    "\n",
    "```console\n",
    "cd path/to/virtualenv/dir/\n",
    "```\n",
    "**mac/linux**\n",
    "```console\n",
    "source bin/activate\n",
    "```\n",
    "**windows**\n",
    "```\n",
    ".\\Scripts\\activate\n",
    "```"
   ]
  },
  {
   "cell_type": "markdown",
   "metadata": {},
   "source": [
    "## Install Required Packages\n",
    "\n",
    "The required packages are:\n",
    "\n",
    "- `Django==3.1.2` [docs](https://www.djangoproject.com/)\n",
    "- `celery` [docs](https://docs.celeryproject.org/en/stable/getting-started/introduction.html)\n",
    "- `redis` [repo](https://github.com/andymccurdy/redis-py)\n",
    "- `django-celery-beat` [repo](https://github.com/celery/django-celery-beat) | [docs](https://django-celery-beat.readthedocs.io/en/latest/)\n",
    "- `django-celery-results` [repo](https://github.com/celery/django-celery-results) | [docs](https://django-celery-results.readthedocs.io/en/latest/)\n",
    "\n",
    "To install:\n",
    "\n",
    "```console\n",
    "pip install django==3.1.2 celery redis django-celery-beat django-celery-results\n",
    "```\n",
    "\n",
    "> If you're using `pipenv`: `pipenv install django==3.1.2 celery redis django-celery-beat django-celery-results`\n",
    "\n",
    "> If you're working in `jupyter` (not recommended at this point in the project):` !pip install django==3.1.2 celery redis django-celery-beat django-celery-results`"
   ]
  },
  {
   "cell_type": "markdown",
   "metadata": {},
   "source": [
    "(installs:web_scraping)=\n",
    "### Install Packages for the web scraping portion of this book:\n",
    "- `requests` [docs](https://requests.readthedocs.io/en/master/) - making http requests\n",
    "- `requests-html` [docs](https://requests.readthedocs.io/projects/requests-html/en/latest/) - parsing HTML content\n",
    "\n",
    "```\n",
    "pip install requests requests-html\n",
    "```\n",
    "> We are only using `requests-html` as an HTML parser in case you need to use a different HTML parser (ie BeautifulSoup, regular expressions, etc). `requests-html` is capable of performing an HTTP request and parsing the result.\n",
    "\n",
    "Now save a `requirements.txt` file:\n",
    "```\n",
    "python -m pip freeze > requirements.txt\n",
    "```"
   ]
  },
  {
   "cell_type": "markdown",
   "metadata": {},
   "source": [
    "## Start Django Project\n",
    "\n",
    "```console\n",
    "django-admin startproject time_tasks .\n",
    "```\n",
    "\n",
    "Let's confirm it's installed:\n",
    "\n",
    "```console\n",
    "ls\n",
    "```\n",
    "Result should be:\n",
    "```\n",
    "manage.py time_tasks requirements.txt\n",
    "```\n",
    "> You may see virtual environment files and folders as well.\n",
    "> `requirements.txt` was created above.\n",
    "\n",
    "If you don't see `manage.py` it's probably because the command you ran was: `django-admin startproject time_tasks` without the trailing `.`"
   ]
  },
  {
   "cell_type": "markdown",
   "metadata": {},
   "source": [
    "(create:django_stock_app)=\n",
    "## Create Django App\n",
    "\n",
    "We will implement this app in a few chapters but for now, run this:\n",
    "\n",
    "```console\n",
    "python manage.py startapp stocks\n",
    "```\n",
    "\n",
    "## Update `time_tasks/settings.py`\n",
    "```python\n",
    "# time_tasks/settings.py\n",
    "INSTALLED_APPS += [\n",
    "    'stocks,\n",
    "]\n",
    "```"
   ]
  },
  {
   "cell_type": "code",
   "execution_count": null,
   "metadata": {},
   "outputs": [],
   "source": []
  }
 ],
 "metadata": {
  "kernelspec": {
   "display_name": "Python 3",
   "language": "python",
   "name": "python3"
  },
  "language_info": {
   "codemirror_mode": {
    "name": "ipython",
    "version": 3
   },
   "file_extension": ".py",
   "mimetype": "text/x-python",
   "name": "python",
   "nbconvert_exporter": "python",
   "pygments_lexer": "ipython3",
   "version": "3.8.5"
  }
 },
 "nbformat": 4,
 "nbformat_minor": 4
}
