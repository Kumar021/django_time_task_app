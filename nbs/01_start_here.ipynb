{
 "cells": [
  {
   "cell_type": "markdown",
   "metadata": {},
   "source": [
    "# Start Here\n",
    "This book is meant to help you leverage Celery in your Django projects. The companion course that covers this material is available on https://cfe.sh/projects/time-tasks-2. \n",
    "\n",
    "The course and this book assume that you have some software development skill already and, most ideally, experience with Django (the popular python web framework). \n",
    "\n",
    "\n",
    "> The **Time & Tasks 2** course and book are still under development. Please continue to check back for updates."
   ]
  },
  {
   "cell_type": "markdown",
   "metadata": {},
   "source": [
    "## Skill Requirements\n",
    "\n",
    "To get the most out of this book, you should know the following Django & Python concepts:\n",
    "\n",
    "- Models\n",
    "- Model Managers & QuerySets\n",
    "- Signals (`post_save`, `pre_save`, etc)\n",
    "- Views\n",
    "- Decorators\n",
    "- Request / Response cycle (at least conceptually)\n",
    "\n",
    "The version of Django matters very little for the above concepts since these concepts will be with Django for a long time to come (at least until 2025 as of 2020)."
   ]
  },
  {
   "cell_type": "code",
   "execution_count": null,
   "metadata": {},
   "outputs": [],
   "source": []
  }
 ],
 "metadata": {
  "kernelspec": {
   "display_name": "Python 3",
   "language": "python",
   "name": "python3"
  },
  "language_info": {
   "codemirror_mode": {
    "name": "ipython",
    "version": 3
   },
   "file_extension": ".py",
   "mimetype": "text/x-python",
   "name": "python",
   "nbconvert_exporter": "python",
   "pygments_lexer": "ipython3",
   "version": "3.8.5"
  }
 },
 "nbformat": 4,
 "nbformat_minor": 4
}
