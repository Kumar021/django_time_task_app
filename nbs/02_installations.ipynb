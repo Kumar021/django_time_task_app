{
 "cells": [
  {
   "cell_type": "markdown",
   "metadata": {},
   "source": [
    "# Python & Virtual Environments\n",
    "Assuming you have the skill requirements for this book, you might want to just skip to the redis installation portion. You will need `redis` installed locally for this book (and for `celery`) although `rabbitmq` is another valid option. \n",
    "\n",
    "- Installing Python\n",
    "- Creating & Activating a Virtual Environment\n",
    "- Installing Python Packages (`pip install`)\n",
    "- Installing Redis (macOS, Windows, Linux)"
   ]
  },
  {
   "cell_type": "markdown",
   "metadata": {},
   "source": [
    "## Install Python 3+\n",
    "\n",
    "You can download python on [https://www.python.org/downloads/](https://www.python.org/downloads/). That's the easiest way on all platforms. \n",
    "\n",
    "Below are a few blog posts on our website that are useful references:\n",
    "\n",
    "- Install Python on Windows: [https://cfe.sh/blog/install-python-django-on-windows](https://www.codingforentrepreneurs.com/blog/install-python-django-on-windows)\n",
    "\n",
    "- Install Python on macOS [https://cfe.sh/blog/install-django-on-mac-or-linux](https://www.codingforentrepreneurs.com/blog/install-django-on-mac-or-linux)"
   ]
  },
  {
   "cell_type": "code",
   "execution_count": null,
   "metadata": {},
   "outputs": [],
   "source": []
  },
  {
   "cell_type": "markdown",
   "metadata": {},
   "source": [
    "(install:using_virtualenv)=\n",
    "## Using Virtual Environments\n",
    "Once you have Python installed, you'll need to use a virtual environment for your project. Virtual environments keep all of the software requirements (ie dependency versions) isolated from other projects. \n",
    "\n",
    "For better isolation, you can consider `Docker` but that's not required here.\n",
    "\n",
    "###  `venv`\n",
    "Here's the easies way to create a virtual environment using Python's built-in `venv` module.\n",
    "\n",
    "```\n",
    "python -m venv my_venv\n",
    "```\n",
    "Replace `my_venv` with any folder name you want to create your virtual environment in. Python handles the creation of the environment, you must activate it.  You can also substitute `my_venv` for `.` to create the virtual environment in your current directory (aka folder).\n",
    "\n",
    "A few key commands:\n",
    "\n",
    "- Activate: `source bin/activate` (mac/linux)\n",
    "- Activate: `.\\Scripts\\activate` (windows)\n",
    "- Deactivate `deactivate` (all platforms; assuming your virtual environment is activated)\n",
    "- Install packages (activate first): `pip install requests` (replace `requests` with any python package)\n",
    "- Remove packages (activate first) `pip uninstall requests` \n",
    "- Installed packages `pip freeze`\n",
    "- Save package history (to re-install/re-create current environment): `pip freeze > requirements.txt`\n",
    "\n",
    "### `pipenv`\n",
    "\n",
    "[pipenv](https://github.com/pypa/pipenv) (https://github.com/pypa/pipenv) is another very popular way to create an manage your virtual environments.\n",
    "\n",
    "Official installation options are on https://github.com/pypa/pipenv#installation.\n",
    "\n",
    "Install:\n",
    "```\n",
    "python -m pip install pipenv\n",
    "# or\n",
    "python3 -m pip install pipenv\n",
    "```\n",
    "\n",
    "Create\n",
    "```\n",
    "cd path/to/project/dir\n",
    "python -m pipenv --python 3.8\n",
    "```\n",
    "`pipenv` creates a `Pipfile` that is a document that describes your virtual environment. \n",
    "\n",
    "\n",
    "A few key commands:\n",
    "\n",
    "- Activate: `pipenv shell` (mac/linux/windows)\n",
    "- Deactivate `deactivate` (all platforms; assuming your virtual environment is activated)\n",
    "- Install packages (activate first): `pipenv install requests` (replace `requests` with any python package)\n",
    "- Remove packages (activate first) `pipenv uninstall requests` \n",
    "- Installed packages `pipenv run pip freeze`\n",
    "- Save package history (to re-install/re-create current environment): `pipenv run pip freeze > requirements.txt`\n"
   ]
  },
  {
   "cell_type": "code",
   "execution_count": null,
   "metadata": {},
   "outputs": [],
   "source": []
  }
 ],
 "metadata": {
  "kernelspec": {
   "display_name": "Python 3",
   "language": "python",
   "name": "python3"
  },
  "language_info": {
   "codemirror_mode": {
    "name": "ipython",
    "version": 3
   },
   "file_extension": ".py",
   "mimetype": "text/x-python",
   "name": "python",
   "nbconvert_exporter": "python",
   "pygments_lexer": "ipython3",
   "version": "3.8.5"
  }
 },
 "nbformat": 4,
 "nbformat_minor": 4
}
